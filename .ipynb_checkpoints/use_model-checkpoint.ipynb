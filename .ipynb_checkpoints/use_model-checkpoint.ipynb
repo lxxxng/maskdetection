{
 "cells": [
  {
   "cell_type": "code",
   "execution_count": 1,
   "id": "5606be7c",
   "metadata": {},
   "outputs": [],
   "source": [
    "from tensorflow.keras.applications.mobilenet_v2 import preprocess_input\n",
    "from tensorflow.keras.preprocessing.image import img_to_array\n",
    "from tensorflow.keras.models import load_model\n",
    "import numpy as np\n",
    "import cv2\n",
    "import os"
   ]
  },
  {
   "cell_type": "code",
   "execution_count": 2,
   "id": "c7d9ddf3",
   "metadata": {},
   "outputs": [],
   "source": [
    "prototxtPath = \"./deploy.prototxt\"\n",
    "weightsPath = \"./res10_300x300_ssd_iter_140000.caffemodel\""
   ]
  },
  {
   "cell_type": "code",
   "execution_count": 3,
   "id": "0424edea",
   "metadata": {},
   "outputs": [],
   "source": [
    "net = cv2.dnn.readNet(prototxtPath, weightsPath)"
   ]
  },
  {
   "cell_type": "code",
   "execution_count": null,
   "id": "a2364d0c",
   "metadata": {},
   "outputs": [],
   "source": []
  },
  {
   "cell_type": "code",
   "execution_count": 4,
   "id": "b1050fae",
   "metadata": {},
   "outputs": [],
   "source": [
    "model = load_model(\"./mobilenet_v2.model\")"
   ]
  },
  {
   "cell_type": "code",
   "execution_count": 27,
   "id": "66cbbdbf",
   "metadata": {},
   "outputs": [],
   "source": [
    "image = cv2.imread(\"./examples/example_03.png\")"
   ]
  },
  {
   "cell_type": "code",
   "execution_count": 28,
   "id": "73c485f7",
   "metadata": {},
   "outputs": [
    {
     "data": {
      "text/plain": [
       "array([[[201, 212, 216],\n",
       "        [201, 212, 217],\n",
       "        [201, 212, 215],\n",
       "        ...,\n",
       "        [181, 194, 196],\n",
       "        [181, 193, 197],\n",
       "        [184, 195, 199]],\n",
       "\n",
       "       [[198, 209, 214],\n",
       "        [197, 209, 213],\n",
       "        [197, 209, 212],\n",
       "        ...,\n",
       "        [178, 192, 194],\n",
       "        [181, 195, 198],\n",
       "        [184, 198, 201]],\n",
       "\n",
       "       [[193, 205, 209],\n",
       "        [192, 204, 208],\n",
       "        [192, 204, 207],\n",
       "        ...,\n",
       "        [179, 194, 197],\n",
       "        [182, 198, 201],\n",
       "        [185, 201, 204]],\n",
       "\n",
       "       ...,\n",
       "\n",
       "       [[201, 193, 186],\n",
       "        [202, 196, 183],\n",
       "        [231, 225, 211],\n",
       "        ...,\n",
       "        [201, 198, 191],\n",
       "        [197, 194, 189],\n",
       "        [188, 184, 179]],\n",
       "\n",
       "       [[192, 184, 177],\n",
       "        [165, 159, 146],\n",
       "        [240, 233, 220],\n",
       "        ...,\n",
       "        [199, 195, 188],\n",
       "        [200, 197, 192],\n",
       "        [191, 186, 181]],\n",
       "\n",
       "       [[173, 165, 158],\n",
       "        [160, 154, 141],\n",
       "        [194, 189, 174],\n",
       "        ...,\n",
       "        [196, 193, 185],\n",
       "        [202, 198, 193],\n",
       "        [196, 191, 187]]], dtype=uint8)"
      ]
     },
     "execution_count": 28,
     "metadata": {},
     "output_type": "execute_result"
    }
   ],
   "source": [
    "image"
   ]
  },
  {
   "cell_type": "code",
   "execution_count": 29,
   "id": "884d9049",
   "metadata": {},
   "outputs": [],
   "source": [
    "(h, w) = image.shape[:2]"
   ]
  },
  {
   "cell_type": "code",
   "execution_count": 30,
   "id": "f48011ce",
   "metadata": {},
   "outputs": [
    {
     "data": {
      "text/plain": [
       "(400, 240)"
      ]
     },
     "execution_count": 30,
     "metadata": {},
     "output_type": "execute_result"
    }
   ],
   "source": [
    "(h, w)"
   ]
  },
  {
   "cell_type": "code",
   "execution_count": 31,
   "id": "d8003ac3",
   "metadata": {},
   "outputs": [],
   "source": [
    "blob = cv2.dnn.blobFromImage(image, 1.0, (300, 300), (104.0, 177.0, 123.0))"
   ]
  },
  {
   "cell_type": "code",
   "execution_count": 32,
   "id": "3edc8e16",
   "metadata": {},
   "outputs": [
    {
     "data": {
      "text/plain": [
       "array([[[[ 96.,  96.,  96., ...,  77.,  78.,  80.],\n",
       "         [ 92.,  91.,  91., ...,  76.,  78.,  81.],\n",
       "         [ 86.,  86.,  85., ...,  79.,  80.,  83.],\n",
       "         ...,\n",
       "         [101., 114., 116., ...,  88.,  85.,  83.],\n",
       "         [ 93.,  83., 106., ...,  95.,  92.,  86.],\n",
       "         [ 72.,  61.,  77., ...,  95.,  96.,  91.]],\n",
       "\n",
       "        [[ 34.,  34.,  34., ...,  16.,  17.,  18.],\n",
       "         [ 30.,  30.,  30., ...,  18.,  20.,  23.],\n",
       "         [ 27.,  27.,  26., ...,  23.,  24.,  25.],\n",
       "         ...,\n",
       "         [ 21.,  35.,  38., ...,  11.,   7.,   4.],\n",
       "         [ 12.,   4.,  26., ...,  19.,  15.,   8.],\n",
       "         [ -9., -18.,  -2., ...,  18.,  19.,  13.]],\n",
       "\n",
       "        [[ 93.,  93.,  92., ...,  73.,  75.,  76.],\n",
       "         [ 89.,  88.,  87., ...,  75.,  77.,  80.],\n",
       "         [ 84.,  84.,  84., ...,  79.,  80.,  82.],\n",
       "         ...,\n",
       "         [ 67.,  78.,  79., ...,  59.,  56.,  53.],\n",
       "         [ 59.,  46.,  67., ...,  67.,  64.,  57.],\n",
       "         [ 38.,  25.,  39., ...,  66.,  68.,  63.]]]], dtype=float32)"
      ]
     },
     "execution_count": 32,
     "metadata": {},
     "output_type": "execute_result"
    }
   ],
   "source": [
    "blob"
   ]
  },
  {
   "cell_type": "code",
   "execution_count": 33,
   "id": "5a9c22f5",
   "metadata": {},
   "outputs": [
    {
     "data": {
      "text/plain": [
       "(1, 3, 300, 300)"
      ]
     },
     "execution_count": 33,
     "metadata": {},
     "output_type": "execute_result"
    }
   ],
   "source": [
    "blob.shape"
   ]
  },
  {
   "cell_type": "code",
   "execution_count": 34,
   "id": "5d331677",
   "metadata": {},
   "outputs": [],
   "source": [
    "net.setInput(blob)\n",
    "detections = net.forward()"
   ]
  },
  {
   "cell_type": "code",
   "execution_count": 35,
   "id": "321bcc07",
   "metadata": {},
   "outputs": [
    {
     "data": {
      "text/plain": [
       "array([[[[0.        , 1.        , 0.9928428 , ..., 0.20051554,\n",
       "          0.628016  , 0.6388631 ],\n",
       "         [0.        , 1.        , 0.20809446, ..., 0.51824826,\n",
       "          1.0487922 , 1.0739472 ],\n",
       "         [0.        , 1.        , 0.12607138, ..., 4.0077953 ,\n",
       "          4.8416853 , 4.9853935 ],\n",
       "         ...,\n",
       "         [0.        , 0.        , 0.        , ..., 0.        ,\n",
       "          0.        , 0.        ],\n",
       "         [0.        , 0.        , 0.        , ..., 0.        ,\n",
       "          0.        , 0.        ],\n",
       "         [0.        , 0.        , 0.        , ..., 0.        ,\n",
       "          0.        , 0.        ]]]], dtype=float32)"
      ]
     },
     "execution_count": 35,
     "metadata": {},
     "output_type": "execute_result"
    }
   ],
   "source": [
    "detections"
   ]
  },
  {
   "cell_type": "code",
   "execution_count": 36,
   "id": "28e9b478",
   "metadata": {},
   "outputs": [
    {
     "data": {
      "text/plain": [
       "1"
      ]
     },
     "execution_count": 36,
     "metadata": {},
     "output_type": "execute_result"
    }
   ],
   "source": [
    "detections.shape[1]"
   ]
  },
  {
   "cell_type": "code",
   "execution_count": 37,
   "id": "e95c014b",
   "metadata": {},
   "outputs": [
    {
     "name": "stdout",
     "output_type": "stream",
     "text": [
      "1/1 [==============================] - 0s 72ms/step\n"
     ]
    }
   ],
   "source": [
    "# loop over the detections\n",
    "for i in range(0, detections.shape[2]):\n",
    "    confidence = detections[0, 0, i, 2]\n",
    "    \n",
    "    if confidence > 0.5:\n",
    "        # we need the X, Y coordinates\n",
    "        box=detections[0, 0, i, 3: 7] * np.array([w, h, w, h])\n",
    "        (startX, startY, endX, endY) = box.astype('int')\n",
    "        \n",
    "        #ensure bounding boxes fall within the dimensions of the frame\n",
    "        (startX, startY) = (max(0, startX), max(0, startY))\n",
    "        (endX, endY) = (min(w - 1, endX), min(h - 1, endY))\n",
    "        \n",
    "        # extract the face ROI, convert it from BGR to RGB channel, resize it to 224, 244 and preprocess\n",
    "        face = image[startY:endY, startX:endX]\n",
    "        face = cv2.cvtColor(face, cv2.COLOR_BGR2RGB)\n",
    "        face = cv2.resize(face, (224, 224))\n",
    "        face = img_to_array(face)\n",
    "        face = preprocess_input(face)\n",
    "        face = np.expand_dims(face, axis=0)\n",
    "        \n",
    "        (mask, withoutMask) = model.predict(face)[0]\n",
    "        \n",
    "        #determine the class label and color we will use to draw the bounding box and text\n",
    "        label = 'Mask' if mask > withoutMask else 'No Mask'\n",
    "        color = (0, 255, 0) if label == 'Mask' else (0, 0, 255)\n",
    "        \n",
    "        #include the probability in the label\n",
    "        label = \"{} : {:.2f}%\".format(label, max(mask, withoutMask) * 100)\n",
    "        \n",
    "        #display the label and bounding boxes\n",
    "        cv2.putText(image, label, (startX, startY-10), cv2.FONT_HERSHEY_SIMPLEX, 0.45, color, 2)\n",
    "        cv2.rectangle(image, (startX, startY), (endX, endY), color, 2)\n",
    "        \n",
    "cv2.imshow(\"Output\", image)\n",
    "cv2.waitKey(0)\n",
    "cv2.destroyAllWindows()"
   ]
  },
  {
   "cell_type": "code",
   "execution_count": null,
   "id": "f8b233b7",
   "metadata": {},
   "outputs": [],
   "source": []
  }
 ],
 "metadata": {
  "kernelspec": {
   "display_name": "Python 3 (ipykernel)",
   "language": "python",
   "name": "python3"
  },
  "language_info": {
   "codemirror_mode": {
    "name": "ipython",
    "version": 3
   },
   "file_extension": ".py",
   "mimetype": "text/x-python",
   "name": "python",
   "nbconvert_exporter": "python",
   "pygments_lexer": "ipython3",
   "version": "3.10.9"
  }
 },
 "nbformat": 4,
 "nbformat_minor": 5
}
